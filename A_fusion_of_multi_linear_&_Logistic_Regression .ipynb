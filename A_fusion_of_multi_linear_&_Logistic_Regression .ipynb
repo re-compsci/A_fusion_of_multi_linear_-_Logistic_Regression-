{
  "cells": [
    {
      "cell_type": "markdown",
      "metadata": {
        "id": "G5m3nvD2mt2J"
      },
      "source": [
        "# Case Study: House Price\n",
        "\n",
        "The dataset represents a synthetic collection of house-related features and their corresponding prices. It contains 1000 samples, with each sample having the following features:\n",
        "\n",
        "- Size: The size of the house\n",
        "- Bedrooms: The number of bedrooms in the house\n",
        "- Bathrooms: The number of bathrooms in the house\n",
        "- Location: A feature representing the location of the house\n",
        "- YearBuilt: The year the house was built\n",
        "- RoofType: The type of roof on the house\n",
        "- Price: The price of the house"
      ]
    },
    {
      "cell_type": "markdown",
      "metadata": {
        "id": "VXzc7u7CnLYL"
      },
      "source": [
        "## Load and Explore the Dataset"
      ]
    },
    {
      "cell_type": "code",
      "execution_count": 2,
      "metadata": {
        "colab": {
          "base_uri": "https://localhost:8080/",
          "height": 423
        },
        "id": "UbJKu2TunPIa",
        "outputId": "04837d3a-83b1-409c-e779-4f7e3fa9575e"
      },
      "outputs": [
        {
          "data": {
            "text/html": [
              "<div>\n",
              "<style scoped>\n",
              "    .dataframe tbody tr th:only-of-type {\n",
              "        vertical-align: middle;\n",
              "    }\n",
              "\n",
              "    .dataframe tbody tr th {\n",
              "        vertical-align: top;\n",
              "    }\n",
              "\n",
              "    .dataframe thead th {\n",
              "        text-align: right;\n",
              "    }\n",
              "</style>\n",
              "<table border=\"1\" class=\"dataframe\">\n",
              "  <thead>\n",
              "    <tr style=\"text-align: right;\">\n",
              "      <th></th>\n",
              "      <th>Size</th>\n",
              "      <th>Bedrooms</th>\n",
              "      <th>Bathrooms</th>\n",
              "      <th>Location</th>\n",
              "      <th>YearBuilt</th>\n",
              "      <th>RoofType</th>\n",
              "      <th>Price</th>\n",
              "    </tr>\n",
              "  </thead>\n",
              "  <tbody>\n",
              "    <tr>\n",
              "      <th>0</th>\n",
              "      <td>-0.325611</td>\n",
              "      <td>0.257199</td>\n",
              "      <td>0.007880</td>\n",
              "      <td>-0.164335</td>\n",
              "      <td>-0.240665</td>\n",
              "      <td>0.212093</td>\n",
              "      <td>-16.984913</td>\n",
              "    </tr>\n",
              "    <tr>\n",
              "      <th>1</th>\n",
              "      <td>-0.202193</td>\n",
              "      <td>1.277665</td>\n",
              "      <td>0.547097</td>\n",
              "      <td>-0.217681</td>\n",
              "      <td>-0.591571</td>\n",
              "      <td>1.098777</td>\n",
              "      <td>24.031693</td>\n",
              "    </tr>\n",
              "    <tr>\n",
              "      <th>2</th>\n",
              "      <td>-2.153731</td>\n",
              "      <td>0.975713</td>\n",
              "      <td>0.685858</td>\n",
              "      <td>0.446982</td>\n",
              "      <td>0.000756</td>\n",
              "      <td>-0.638586</td>\n",
              "      <td>57.305959</td>\n",
              "    </tr>\n",
              "    <tr>\n",
              "      <th>3</th>\n",
              "      <td>-0.939880</td>\n",
              "      <td>-1.304470</td>\n",
              "      <td>0.366598</td>\n",
              "      <td>-0.513867</td>\n",
              "      <td>0.669673</td>\n",
              "      <td>-1.059214</td>\n",
              "      <td>-81.049670</td>\n",
              "    </tr>\n",
              "    <tr>\n",
              "      <th>4</th>\n",
              "      <td>-0.570351</td>\n",
              "      <td>1.223083</td>\n",
              "      <td>0.352505</td>\n",
              "      <td>-1.820603</td>\n",
              "      <td>-0.258854</td>\n",
              "      <td>0.270057</td>\n",
              "      <td>-127.396000</td>\n",
              "    </tr>\n",
              "    <tr>\n",
              "      <th>...</th>\n",
              "      <td>...</td>\n",
              "      <td>...</td>\n",
              "      <td>...</td>\n",
              "      <td>...</td>\n",
              "      <td>...</td>\n",
              "      <td>...</td>\n",
              "      <td>...</td>\n",
              "    </tr>\n",
              "    <tr>\n",
              "      <th>995</th>\n",
              "      <td>NaN</td>\n",
              "      <td>0.689164</td>\n",
              "      <td>-0.273729</td>\n",
              "      <td>0.149598</td>\n",
              "      <td>-0.683634</td>\n",
              "      <td>0.097827</td>\n",
              "      <td>13.634300</td>\n",
              "    </tr>\n",
              "    <tr>\n",
              "      <th>996</th>\n",
              "      <td>-0.564079</td>\n",
              "      <td>-1.021233</td>\n",
              "      <td>0.243801</td>\n",
              "      <td>-1.280304</td>\n",
              "      <td>0.708356</td>\n",
              "      <td>0.872457</td>\n",
              "      <td>-138.161669</td>\n",
              "    </tr>\n",
              "    <tr>\n",
              "      <th>997</th>\n",
              "      <td>-0.981166</td>\n",
              "      <td>-1.725807</td>\n",
              "      <td>1.194109</td>\n",
              "      <td>-0.464404</td>\n",
              "      <td>-0.677565</td>\n",
              "      <td>0.462061</td>\n",
              "      <td>-94.896020</td>\n",
              "    </tr>\n",
              "    <tr>\n",
              "      <th>998</th>\n",
              "      <td>NaN</td>\n",
              "      <td>1.158596</td>\n",
              "      <td>0.963376</td>\n",
              "      <td>0.822060</td>\n",
              "      <td>-0.820682</td>\n",
              "      <td>1.896793</td>\n",
              "      <td>133.087712</td>\n",
              "    </tr>\n",
              "    <tr>\n",
              "      <th>999</th>\n",
              "      <td>-0.562288</td>\n",
              "      <td>0.241962</td>\n",
              "      <td>-1.724918</td>\n",
              "      <td>-1.012831</td>\n",
              "      <td>-1.913280</td>\n",
              "      <td>0.314247</td>\n",
              "      <td>-188.649246</td>\n",
              "    </tr>\n",
              "  </tbody>\n",
              "</table>\n",
              "<p>1000 rows × 7 columns</p>\n",
              "</div>"
            ],
            "text/plain": [
              "         Size  Bedrooms  Bathrooms  Location  YearBuilt  RoofType       Price\n",
              "0   -0.325611  0.257199   0.007880 -0.164335  -0.240665  0.212093  -16.984913\n",
              "1   -0.202193  1.277665   0.547097 -0.217681  -0.591571  1.098777   24.031693\n",
              "2   -2.153731  0.975713   0.685858  0.446982   0.000756 -0.638586   57.305959\n",
              "3   -0.939880 -1.304470   0.366598 -0.513867   0.669673 -1.059214  -81.049670\n",
              "4   -0.570351  1.223083   0.352505 -1.820603  -0.258854  0.270057 -127.396000\n",
              "..        ...       ...        ...       ...        ...       ...         ...\n",
              "995       NaN  0.689164  -0.273729  0.149598  -0.683634  0.097827   13.634300\n",
              "996 -0.564079 -1.021233   0.243801 -1.280304   0.708356  0.872457 -138.161669\n",
              "997 -0.981166 -1.725807   1.194109 -0.464404  -0.677565  0.462061  -94.896020\n",
              "998       NaN  1.158596   0.963376  0.822060  -0.820682  1.896793  133.087712\n",
              "999 -0.562288  0.241962  -1.724918 -1.012831  -1.913280  0.314247 -188.649246\n",
              "\n",
              "[1000 rows x 7 columns]"
            ]
          },
          "execution_count": 2,
          "metadata": {},
          "output_type": "execute_result"
        }
      ],
      "source": [
        "import pandas as pd\n",
        "df = pd.read_csv(\"/content/house_prices_dataset.csv\")\n",
        "df"
      ]
    },
    {
      "cell_type": "markdown",
      "metadata": {
        "id": "iEqIDMqynhFj"
      },
      "source": [
        "Let's explore the dataset to better know what we're dealing with"
      ]
    },
    {
      "cell_type": "code",
      "execution_count": 3,
      "metadata": {
        "colab": {
          "base_uri": "https://localhost:8080/"
        },
        "id": "B7_mD1cxnga1",
        "outputId": "9366e6bd-21a5-4677-808a-78f0537f996e"
      },
      "outputs": [
        {
          "name": "stdout",
          "output_type": "stream",
          "text": [
            "Shape of the dataset: (1000, 7)\n",
            " data types of the columns Size         float64\n",
            "Bedrooms     float64\n",
            "Bathrooms    float64\n",
            "Location     float64\n",
            "YearBuilt    float64\n",
            "RoofType     float64\n",
            "Price        float64\n",
            "dtype: object\n"
          ]
        }
      ],
      "source": [
        "# Question 1:\n",
        "# Get the shape of the dataset\n",
        "print(\"Shape of the dataset:\", df.shape)\n",
        "\n",
        "# Check the data types of the columns\n",
        "print(\" data types of the columns\", df.dtypes)\n"
      ]
    },
    {
      "cell_type": "markdown",
      "metadata": {
        "id": "5_Fu1UJPnyTs"
      },
      "source": [
        "## Deeper Exploration"
      ]
    },
    {
      "cell_type": "code",
      "execution_count": 4,
      "metadata": {
        "colab": {
          "base_uri": "https://localhost:8080/"
        },
        "id": "6jOhgLu3n4tH",
        "outputId": "62928ff4-73c2-4da2-bfbe-0ee38a44875b"
      },
      "outputs": [
        {
          "name": "stdout",
          "output_type": "stream",
          "text": [
            "missing values\n",
            " Size         200\n",
            "Bedrooms     100\n",
            "Bathrooms      0\n",
            "Location       0\n",
            "YearBuilt      0\n",
            "RoofType       0\n",
            "Price          0\n",
            "dtype: int64\n",
            "Missing values:\n",
            " Size         0\n",
            "Bedrooms     0\n",
            "Bathrooms    0\n",
            "Location     0\n",
            "YearBuilt    0\n",
            "RoofType     0\n",
            "Price        0\n",
            "dtype: int64\n"
          ]
        }
      ],
      "source": [
        "import matplotlib.pyplot as plt\n",
        "import seaborn as sns\n",
        "\n",
        "# Question 2:\n",
        "# Check for missing values\n",
        "print (\"missing values\\n\",df.isnull().sum())\n",
        "\n",
        "\n",
        "# Drop rows with NaN values\n",
        "df = df.dropna()\n",
        "\n",
        "\n",
        "# Check for missing values again\n",
        "print(\"Missing values:\\n\", df.isnull().sum())"
      ]
    },
    {
      "cell_type": "markdown",
      "metadata": {
        "id": "AzHNfS31oqDh"
      },
      "source": [
        "This function sns.pairplot() creates scatter plots for each numerical feature (Size, Bedrooms, Bathrooms, Location, YearBuilt) against the target variable (Price)."
      ]
    },
    {
      "cell_type": "code",
      "execution_count": 5,
      "metadata": {
        "colab": {
          "base_uri": "https://localhost:8080/",
          "height": 154
        },
        "id": "yFDdvVRhogX4",
        "outputId": "7e0d146f-c948-4a4b-c6c2-62f67edb63b9"
      },
      "outputs": [
        {
          "data": {
            "image/png": "[encoded data removed]",
            "text/plain": [
              "<Figure size 900x180 with 5 Axes>"
            ]
          },
          "metadata": {
            "needs_background": "light"
          },
          "output_type": "display_data"
        }
      ],
      "source": [
        "import matplotlib.pyplot as plt\n",
        "import seaborn as sns\n",
        "# Question 3:\n",
        "# Create plots to better understand the data\n",
        "sns.pairplot(df, x_vars=[\"Size\",\"Bedrooms\",\"Bathrooms\",\"Location\",\"YearBuilt\"], y_vars=\"Price\", kind=\"scatter\")\n",
        "plt.show()\n"
      ]
    },
    {
      "cell_type": "markdown",
      "metadata": {
        "id": "Lr9boItso52E"
      },
      "source": [
        "## Predictive Modeling using Linear Regression"
      ]
    },
    {
      "cell_type": "markdown",
      "metadata": {
        "id": "vAxt2xBXo_Gf"
      },
      "source": [
        "- Split the Data\n",
        "- Train a Linear Regressor\n",
        "- Evaluate it on the test set using any metric of your choice"
      ]
    },
    {
      "cell_type": "code",
      "execution_count": 6,
      "metadata": {
        "colab": {
          "base_uri": "https://localhost:8080/",
          "height": 74
        },
        "id": "0omN-q4XpNwN",
        "outputId": "f3a87f26-f193-4f5e-e06e-0ab4cc5b74d0"
      },
      "outputs": [
        {
          "data": {
            "text/plain": [
              "LinearRegression()"
            ]
          },
          "execution_count": 6,
          "metadata": {},
          "output_type": "execute_result"
        }
      ],
      "source": [
        "from sklearn.model_selection import train_test_split\n",
        "from sklearn.linear_model import LinearRegression\n",
        "# Question 4:\n",
        "# Split the data into features (X) and target variable (y)\n",
        "X = df.drop('Price', axis=1)\n",
        "y = df['Price']\n",
        "\n",
        "\n",
        "# Split the data into training and testing sets\n",
        "X_train,X_test,y_train, y_test = train_test_split(X, y, test_size=0.2)\n",
        "\n",
        "\n",
        "# Fit a linear regression model\n",
        "Li_reg = LinearRegression()\n",
        "Li_reg.fit(X_train, y_train)\n"
      ]
    },
    {
      "cell_type": "code",
      "execution_count": 7,
      "metadata": {
        "colab": {
          "base_uri": "https://localhost:8080/"
        },
        "id": "27CwX0iIpVMF",
        "outputId": "28b65879-c32f-47c3-d54c-0715231dd49a"
      },
      "outputs": [
        {
          "name": "stdout",
          "output_type": "stream",
          "text": [
            "mean squared error\n",
            " 0.2659640626568083\n",
            "R2 score\n",
            " 0.9999818366513558\n"
          ]
        }
      ],
      "source": [
        "from sklearn.metrics import mean_squared_error, r2_score\n",
        "\n",
        "# Question 5:\n",
        "# Evaluate the model on the test set\n",
        "y_pred = Li_reg.predict(X_test)\n",
        "\n",
        "# Calculate evaluation metrics\n",
        "mse =  mean_squared_error(y_test, y_pred)\n",
        "r2 = r2_score(y_test, y_pred)\n",
        "\n",
        "# Print the evaluation metrics\n",
        "\n",
        "print(\"mean squared error\\n\",mse)\n",
        "print(\"R2 score\\n\",r2)"
      ]
    },
    {
      "cell_type": "markdown",
      "metadata": {
        "id": "0Ds0ruILzSxP"
      },
      "source": [
        "## Predictive Modeling using Logistic Regression"
      ]
    },
    {
      "cell_type": "code",
      "execution_count": 8,
      "metadata": {
        "colab": {
          "base_uri": "https://localhost:8080/",
          "height": 547
        },
        "id": "niQ_7ItEzZ9i",
        "outputId": "f6f0d373-e3b8-422b-a038-be7d3e007f79"
      },
      "outputs": [
        {
          "name": "stdout",
          "output_type": "stream",
          "text": [
            "Accuracy: 0.9861111111111112\n",
            "Precision: 0.9864864864864865\n",
            "Recall: 0.9864864864864865\n",
            "F1 score: 0.9864864864864865\n"
          ]
        },
        {
          "name": "stderr",
          "output_type": "stream",
          "text": [
            "C:\\Users\\riina\\AppData\\Local\\Temp/ipykernel_11844/2631695582.py:9: SettingWithCopyWarning: \n",
            "A value is trying to be set on a copy of a slice from a DataFrame.\n",
            "Try using .loc[row_indexer,col_indexer] = value instead\n",
            "\n",
            "See the caveats in the documentation: https://pandas.pydata.org/pandas-docs/stable/user_guide/indexing.html#returning-a-view-versus-a-copy\n",
            "  df[\"Class\"] = df[\"Price\"].apply(lambda x: 1 if x >= threshold else 0)\n"
          ]
        }
      ],
      "source": [
        "\n",
        "from sklearn.linear_model import LogisticRegression\n",
        "from sklearn.metrics import accuracy_score, precision_score, recall_score, f1_score\n",
        "\n",
        "# Question 6:\n",
        "# Set the median as a threshold to classify houses as \"expensive\" or \"affordable\"\n",
        "threshold = df['Price'].median()\n",
        "\n",
        "# Transform the problem into a classification task\n",
        "df[\"Class\"] = df[\"Price\"].apply(lambda x: 1 if x >= threshold else 0)\n",
        "df = df.drop(\"Price\", axis=1)\n",
        "\n",
        "# Split the data into features (X) and target variable (y)\n",
        "X = df.drop('Class', axis=1)\n",
        "y = df['Class']\n",
        "\n",
        "\n",
        "\n",
        "# Split the data into training and testing sets\n",
        "X_train, X_test, y_train, y_test = train_test_split(X, y, test_size=0.2, random_state=42)\n",
        "\n",
        "# Fit a logistic regression model\n",
        "classifier = LogisticRegression()\n",
        "classifier.fit(X_train, y_train)\n",
        "\n",
        "# Make predictions on the test set\n",
        "y_pred = classifier.predict(X_test)\n",
        "\n",
        "# Calculate evaluation metrics\n",
        "accuracy = accuracy_score(y_test, y_pred)\n",
        "precision = precision_score(y_test, y_pred)\n",
        "recall = recall_score(y_test, y_pred)\n",
        "f1 = f1_score(y_test, y_pred)\n",
        "\n",
        "# Print the evaluation metrics\n",
        "print(\"Accuracy:\", accuracy)\n",
        "print(\"Precision:\", precision)\n",
        "print(\"Recall:\", recall)\n",
        "print(\"F1 score:\", f1)\n"
      ]
    }
  ],
  "metadata": {
    "colab": {
      "provenance": []
    },
    "kernelspec": {
      "display_name": "Python 3",
      "name": "python3"
    },
    "language_info": {
      "codemirror_mode": {
        "name": "ipython",
        "version": 3
      },
      "file_extension": ".py",
      "mimetype": "text/x-python",
      "name": "python",
      "nbconvert_exporter": "python",
      "pygments_lexer": "ipython3",
      "version": "3.9.7"
    }
  },
  "nbformat": 4,
  "nbformat_minor": 0
}
